{
 "cells": [
  {
   "cell_type": "markdown",
   "metadata": {
    "colab_type": "text",
    "id": "jYysdyb-CaWM"
   },
   "source": [
    "# Reconocer dígitos en lenguaje de señas"
   ]
  },
  {
   "cell_type": "markdown",
   "metadata": {
    "colab_type": "text",
    "id": "FbVhjPpzn6BM"
   },
   "source": [
    "### <font color='B43F26'> Description </font>\n",
    "***\n",
    "\n",
    "<i><font color='8a8a8a'>The idea is to recognice digits presented in sign language, in an image set inside `sign_language_digits.zip`.</font></i><br>"
   ]
  },
  {
   "cell_type": "markdown",
   "metadata": {},
   "source": [
    "<div class=\"alert alert-block alert-info\">\n",
    "\n",
    "## Setup\n",
    "***"
   ]
  },
  {
   "cell_type": "code",
   "execution_count": 1,
   "metadata": {},
   "outputs": [],
   "source": [
    "#Libreries Import.\n",
    "\n",
    "import os\n",
    "import numpy as np\n",
    "from os import listdir\n",
    "from keras.layers import Input\n",
    "from keras.layers import Flatten\n",
    "from keras.layers import Activation\n",
    "from keras.layers import Conv2D\n",
    "from keras.layers import MaxPooling2D\n",
    "from keras.models import Model, Sequential\n",
    "from keras.layers.core import Dense, Dropout\n",
    "from keras.layers.advanced_activations import LeakyReLU\n",
    "from keras.datasets import mnist\n",
    "from keras import initializers\n",
    "#[FMaresca]\n",
    "from keras.regularizers import l2\n",
    "from keras.preprocessing.image import ImageDataGenerator\n",
    "from tensorflow.keras.optimizers import Adam\n",
    "\n",
    "from sklearn.model_selection import train_test_split\n",
    "from PIL import Image\n",
    "import imageio\n",
    "\n",
    "import matplotlib.pyplot as plt\n",
    "import zipfile"
   ]
  },
  {
   "cell_type": "markdown",
   "metadata": {},
   "source": [
    "## Unzip images"
   ]
  },
  {
   "cell_type": "code",
   "execution_count": 2,
   "metadata": {},
   "outputs": [],
   "source": [
    "with zipfile.ZipFile('./input_images/sign_language_digits.zip', 'r') as zip_ref:\n",
    "    zip_ref.extractall('./input_images/')"
   ]
  },
  {
   "cell_type": "markdown",
   "metadata": {},
   "source": [
    "Some global settings."
   ]
  },
  {
   "cell_type": "code",
   "execution_count": 3,
   "metadata": {},
   "outputs": [],
   "source": [
    "img_size = 64    #Configure the image size with this parameter\n",
    "num_class = 10   #Number of categories.\n",
    "test_size = 0.2  #Configure the the % for testing dataset based on total images."
   ]
  },
  {
   "cell_type": "markdown",
   "metadata": {
    "colab_type": "text",
    "id": "yR0EdgrLCaWR"
   },
   "source": [
    "<div class=\"alert alert-block alert-info\">\n",
    "    \n",
    "## Dataset Import\n",
    "***"
   ]
  },
  {
   "cell_type": "markdown",
   "metadata": {
    "colab_type": "text",
    "id": "DLdCchMdCaWQ"
   },
   "source": [
    "This dataset contains 1650 images with 10 diferent categories/labels. Each categoriy/label is a numerical digit (from 0 to 9) represented in sign language.\n",
    "Each image has a 100x100 pixel resolutuon and each pixel is represented by 3 color values (RGB)."
   ]
  },
  {
   "cell_type": "code",
   "execution_count": 4,
   "metadata": {},
   "outputs": [],
   "source": [
    "def get_img(data_path):\n",
    "    #Getting image array from path:\n",
    "    img = Image.open(data_path)\n",
    "    img = img.resize((img_size, img_size))\n",
    "    return np.asarray(img)\n",
    "\n",
    "def get_dataset(dataset_path='./input_images/sign_language_digits'):\n",
    "    labels = listdir(dataset_path) #Geting labels\n",
    "    X = []\n",
    "    Y = []\n",
    "    for i, label in enumerate(labels):\n",
    "        datas_path = dataset_path+'/'+label\n",
    "        for data in listdir(datas_path):\n",
    "            img = get_img(datas_path+'/'+data)\n",
    "            X.append(img)\n",
    "            Y.append(int(label))\n",
    "    X = np.array(X).astype('float32')/255.\n",
    "    Y = np.array(Y).astype('int')\n",
    "    X, X_test, Y, Y_test = train_test_split(X, Y, test_size=test_size)\n",
    "    return X, X_test, Y, Y_test\n"
   ]
  },
  {
   "cell_type": "markdown",
   "metadata": {},
   "source": [
    "Training dataset and testing dataset split"
   ]
  },
  {
   "cell_type": "code",
   "execution_count": 5,
   "metadata": {},
   "outputs": [],
   "source": [
    "X, X_test, Y, Y_test = get_dataset()"
   ]
  },
  {
   "cell_type": "markdown",
   "metadata": {},
   "source": [
    "Let's show an image example:"
   ]
  },
  {
   "cell_type": "code",
   "execution_count": 6,
   "metadata": {
    "scrolled": true
   },
   "outputs": [
    {
     "name": "stdout",
     "output_type": "stream",
     "text": [
      "Image label: 2\n"
     ]
    },
    {
     "data": {
      "image/png": "[encoded data removed]",
      "text/plain": [
       "<Figure size 432x288 with 1 Axes>"
      ]
     },
     "metadata": {
      "needs_background": "light"
     },
     "output_type": "display_data"
    }
   ],
   "source": [
    "nro_image = 3\n",
    "\n",
    "image = X[nro_image].reshape(1, img_size, img_size, 3)\n",
    "plt.imshow(X[nro_image])\n",
    "print(\"Image label: \" + str(Y[nro_image]))"
   ]
  },
  {
   "cell_type": "markdown",
   "metadata": {
    "colab_type": "text",
    "id": "Brm0b_KACaWX"
   },
   "source": [
    "<div class=\"alert alert-block alert-info\">\n",
    "    \n",
    "## Data Exploration\n",
    "***\n",
    "\n",
    "Before tuning is important to try to understand the information we have."
   ]
  },
  {
   "cell_type": "markdown",
   "metadata": {
    "colab_type": "text",
    "id": "t9FDsUlxCaWW"
   },
   "source": [
    "We have 4 arrays:\n",
    "\n",
    "* `X` and `Y` are training set arrays —> data destinated for model tuning.\n",
    "* The resulting model will be tested with the *test set*, `X_test` and `Y_test` arrays.\n",
    "\n",
    "The images are 64x64x3 matrix (while `img_size=64`). Each RGB component takes values from 0 to 1.\n",
    "The *labels* are integer arrays from 0 to 9 and correspond to the digit representation."
   ]
  },
  {
   "cell_type": "code",
   "execution_count": 7,
   "metadata": {
    "colab": {},
    "colab_type": "code",
    "id": "zW5k_xz1CaWX"
   },
   "outputs": [
    {
     "data": {
      "text/plain": [
       "(1330, 64, 64, 3)"
      ]
     },
     "execution_count": 7,
     "metadata": {},
     "output_type": "execute_result"
    }
   ],
   "source": [
    "#Training dataset size.\n",
    "X.shape"
   ]
  },
  {
   "cell_type": "code",
   "execution_count": 8,
   "metadata": {
    "colab": {},
    "colab_type": "code",
    "id": "TRFYHB2mCaWb"
   },
   "outputs": [
    {
     "data": {
      "text/plain": [
       "1330"
      ]
     },
     "execution_count": 8,
     "metadata": {},
     "output_type": "execute_result"
    }
   ],
   "source": [
    "#Training labels count.\n",
    "len(Y)"
   ]
  },
  {
   "cell_type": "code",
   "execution_count": 9,
   "metadata": {
    "colab": {},
    "colab_type": "code",
    "id": "XKnCTHz4CaWg"
   },
   "outputs": [
    {
     "data": {
      "text/plain": [
       "array([6, 4, 5, ..., 2, 9, 7])"
      ]
     },
     "execution_count": 9,
     "metadata": {},
     "output_type": "execute_result"
    }
   ],
   "source": [
    "#Show labels.\n",
    "Y"
   ]
  },
  {
   "cell_type": "code",
   "execution_count": 10,
   "metadata": {
    "colab": {},
    "colab_type": "code",
    "id": "2KFnYlcwCaWl"
   },
   "outputs": [
    {
     "data": {
      "text/plain": [
       "(333, 64, 64, 3)"
      ]
     },
     "execution_count": 10,
     "metadata": {},
     "output_type": "execute_result"
    }
   ],
   "source": [
    "#Test dataset size.\n",
    "X_test.shape"
   ]
  },
  {
   "cell_type": "code",
   "execution_count": 11,
   "metadata": {
    "colab": {},
    "colab_type": "code",
    "id": "iJmPr5-ACaWn"
   },
   "outputs": [
    {
     "data": {
      "text/plain": [
       "333"
      ]
     },
     "execution_count": 11,
     "metadata": {},
     "output_type": "execute_result"
    }
   ],
   "source": [
    "#Show labels.\n",
    "len(Y_test)"
   ]
  },
  {
   "cell_type": "markdown",
   "metadata": {
    "colab_type": "text",
    "id": "59veuiEZCaW4"
   },
   "source": [
    "<div class=\"alert alert-block alert-info\">\n",
    "    \n",
    "## Build the ML Model\n",
    "***\n"
   ]
  },
  {
   "cell_type": "markdown",
   "metadata": {
    "colab_type": "text",
    "id": "NLws8IXaKnw7"
   },
   "source": [
    "In this case I decided to go for a neural network.\n",
    "\n",
    "**Some questions you should ask before choosing the model**\n",
    "\n",
    "**1) ¿Why you should use neural networks?**\n",
    "\n",
    "*The neaural networks are good in learning image recognition and patterns. They are specially good working with big numbers of inputs (in this case all image pixels).*\n",
    "\n",
    "**2) ¿How many features will have the nerual network?**\n",
    "\n",
    "*It will have a feature count of: `img_size x img_size x 3` or `12288` in this configuration*\n",
    "\n",
    "**3) ¿What is represented by a feature?**\n",
    "\n",
    "*1 pixel and 1 color channel*\n",
    "\n",
    "**4) The last neuron layer, ¿How many neurons will have? ¿Why?**\n",
    "\n",
    "*It should have 10. This is because the result should be a number from 0 to 9 and the neural network will give the probability of each numerical option.*\n",
    "\n",
    "**5) ¿Why using a convolutional network?**\n",
    "\n",
    "*It's a method for reducing the image resolution. This generates that one feature correspons to a bigger field of activation in the input image. Also helps to speed up the tuning and training process.*\n"
   ]
  },
  {
   "cell_type": "markdown",
   "metadata": {
    "colab_type": "text",
    "id": "Gxg1XGm0eOBy"
   },
   "source": [
    "### Building the Network Layers \n"
   ]
  },
  {
   "cell_type": "markdown",
   "metadata": {
    "colab_type": "text",
    "id": "ngK32-ELaZPa"
   },
   "source": [
    "**Conv2D** (https://keras.io/layers/convolutional/)\n",
    "\n",
    "Convolucional Layer. Parameters:\n",
    "\n",
    "* `filters`: Filters or channel number.\n",
    "* `kernel_size`: Windows size that moves through the image. Example: (3,3), (5,5), (7,7).\n",
    "* `input_shape`: Input dataset shape. Only needed for the first layer.\n",
    "\n",
    "\n",
    "**Flatten** (https://keras.io/layers/core/)\n",
    "\n",
    "Is use to connect convolutional layers to dense layers.\n",
    "\n",
    "\n",
    "**Dense** (https://keras.io/layers/core/)\n",
    "\n",
    "Neurons layer. Al inputs are connected to all neurons.\n",
    "\n",
    "* `units`: Neurons number in the layer.\n",
    "* `activation`: Activation function(https://keras.io/activations/). Usually used: 'softmax', 'relu', 'sigmoid'.\n"
   ]
  },
  {
   "cell_type": "markdown",
   "metadata": {},
   "source": [
    "***Visual representation of a convolutional architecture:***\n",
    "\n",
    "<img src=\"documentation/convolutional-and-pooling-layers.png\" width=\"800\">"
   ]
  },
  {
   "cell_type": "code",
   "execution_count": 12,
   "metadata": {},
   "outputs": [],
   "source": [
    "model = Sequential()\n",
    "#-Input_shape = (height, width, depth)\n",
    "#- Applying regularization helps with: \n",
    "#  (1)Reduce overfitting effect. \n",
    "#  (2)Increment the model capacity to \"generalice\".\n",
    "#------------------\n",
    "#1st convolucional layer: learns 16 filters\n",
    "model.add(Conv2D(16, (7, 7), strides=(2, 2), padding=\"valid\",\n",
    "                 kernel_initializer=\"he_normal\", kernel_regularizer=l2(0.0005), input_shape=(64,64,3)))\n",
    "\n",
    "#Then we add 2 more layers in which the model will learn 32 filters.\n",
    "#------------------\n",
    "model.add(Conv2D(32, (3, 3), padding=\"same\",\n",
    "                 kernel_initializer=\"he_normal\", kernel_regularizer=l2(0.0005)))\n",
    "model.add(Activation(\"relu\"))\n",
    "model.add(Conv2D(32, (3, 3), strides=(2, 2), padding=\"same\",\n",
    "                 kernel_initializer=\"he_normal\", kernel_regularizer=l2(0.0005)))\n",
    "model.add(Activation(\"relu\"))\n",
    "model.add(Dropout(0.25))\n",
    "\n",
    "#Again, we add 2 more layers to learn 64 filters this time.\n",
    "#------------------\n",
    "model.add(Conv2D(64, (3, 3), padding=\"same\",\n",
    "                 kernel_initializer=\"he_normal\", kernel_regularizer=l2(0.0005)))\n",
    "model.add(Activation(\"relu\"))\n",
    "model.add(Conv2D(64, (3, 3), strides=(2, 2), padding=\"same\",\n",
    "                 kernel_initializer=\"he_normal\", kernel_regularizer=l2(0.0005)))\n",
    "model.add(Activation(\"relu\"))\n",
    "model.add(Dropout(0.25))\n",
    "\n",
    "#For the last, 2 more layers incrementing filters up to 128.\n",
    "#------------------\n",
    "model.add(Conv2D(128, (3, 3), padding=\"same\",\n",
    "                 kernel_initializer=\"he_normal\", kernel_regularizer=l2(0.0005)))\n",
    "model.add(Activation(\"relu\"))\n",
    "model.add(Conv2D(128, (3, 3), strides=(2, 2), padding=\"same\",\n",
    "                 kernel_initializer=\"he_normal\", kernel_regularizer=l2(0.0005)))\n",
    "model.add(Activation(\"relu\"))\n",
    "model.add(Dropout(0.25))\n",
    "\n",
    "model.add(Flatten())\n",
    "#1st fully connected layer\n",
    "#------------------\n",
    "model.add(Dense(512, kernel_initializer=\"he_normal\"))\n",
    "model.add(Activation(\"relu\"))\n",
    "model.add(Dropout(0.5))\n",
    "\n",
    "#2nd fully connected layer (Output)\n",
    "#------------------\n",
    "model.add(Dense(10, activation='softmax'))"
   ]
  },
  {
   "cell_type": "markdown",
   "metadata": {
    "colab_type": "text",
    "id": "gut8A_7rCaW6"
   },
   "source": [
    "\n",
    "### Model Compile\n",
    "\n",
    "* `Loss function` —> Measures the model training error. The objective is to minimize this function.\n",
    "* `Optimizer` —> The method used to update the model in order to minimize the loss function.\n",
    "* `Metrics` —> The monitor metric will be the model accuuracy."
   ]
  },
  {
   "cell_type": "code",
   "execution_count": 13,
   "metadata": {
    "colab": {},
    "colab_type": "code",
    "id": "Lhan11blCaW7"
   },
   "outputs": [],
   "source": [
    "optim = Adam(learning_rate = 0.0005)\n",
    "model.compile(optimizer = optim,\n",
    "              loss = 'sparse_categorical_crossentropy',\n",
    "              metrics = ['accuracy'])"
   ]
  },
  {
   "cell_type": "code",
   "execution_count": 14,
   "metadata": {
    "colab": {},
    "colab_type": "code",
    "id": "rR9JsKTgeb2C"
   },
   "outputs": [
    {
     "name": "stdout",
     "output_type": "stream",
     "text": [
      "Model: \"sequential\"\n",
      "_________________________________________________________________\n",
      " Layer (type)                Output Shape              Param #   \n",
      "=================================================================\n",
      " conv2d (Conv2D)             (None, 29, 29, 16)        2368      \n",
      "                                                                 \n",
      " conv2d_1 (Conv2D)           (None, 29, 29, 32)        4640      \n",
      "                                                                 \n",
      " activation (Activation)     (None, 29, 29, 32)        0         \n",
      "                                                                 \n",
      " conv2d_2 (Conv2D)           (None, 15, 15, 32)        9248      \n",
      "                                                                 \n",
      " activation_1 (Activation)   (None, 15, 15, 32)        0         \n",
      "                                                                 \n",
      " dropout (Dropout)           (None, 15, 15, 32)        0         \n",
      "                                                                 \n",
      " conv2d_3 (Conv2D)           (None, 15, 15, 64)        18496     \n",
      "                                                                 \n",
      " activation_2 (Activation)   (None, 15, 15, 64)        0         \n",
      "                                                                 \n",
      " conv2d_4 (Conv2D)           (None, 8, 8, 64)          36928     \n",
      "                                                                 \n",
      " activation_3 (Activation)   (None, 8, 8, 64)          0         \n",
      "                                                                 \n",
      " dropout_1 (Dropout)         (None, 8, 8, 64)          0         \n",
      "                                                                 \n",
      " conv2d_5 (Conv2D)           (None, 8, 8, 128)         73856     \n",
      "                                                                 \n",
      " activation_4 (Activation)   (None, 8, 8, 128)         0         \n",
      "                                                                 \n",
      " conv2d_6 (Conv2D)           (None, 4, 4, 128)         147584    \n",
      "                                                                 \n",
      " activation_5 (Activation)   (None, 4, 4, 128)         0         \n",
      "                                                                 \n",
      " dropout_2 (Dropout)         (None, 4, 4, 128)         0         \n",
      "                                                                 \n",
      " flatten (Flatten)           (None, 2048)              0         \n",
      "                                                                 \n",
      " dense (Dense)               (None, 512)               1049088   \n",
      "                                                                 \n",
      " activation_6 (Activation)   (None, 512)               0         \n",
      "                                                                 \n",
      " dropout_3 (Dropout)         (None, 512)               0         \n",
      "                                                                 \n",
      " dense_1 (Dense)             (None, 10)                5130      \n",
      "                                                                 \n",
      "=================================================================\n",
      "Total params: 1,347,338\n",
      "Trainable params: 1,347,338\n",
      "Non-trainable params: 0\n",
      "_________________________________________________________________\n",
      "None\n"
     ]
    }
   ],
   "source": [
    "#Let's show the network summary.\n",
    "print(model.summary())"
   ]
  },
  {
   "cell_type": "markdown",
   "metadata": {
    "colab_type": "text",
    "id": "qKF6uW-BCaW-"
   },
   "source": [
    "<div class=\"alert alert-block alert-info\">\n",
    " \n",
    "## Model Tuning\n",
    "***\n",
    "    "
   ]
  },
  {
   "cell_type": "markdown",
   "metadata": {
    "colab_type": "text",
    "id": "RDDtvAuVQ2fQ"
   },
   "source": [
    "**¿What's `overfitting`? ¿Why should be avoided?**\n",
    "\n",
    "*Is the result of adjusting too much the model to the training dataset. It should be avoided because the resulting model will result \"strongly connected\" to the training dataset, which will lead to bad performance with new (and unknown) data.*\n"
   ]
  },
  {
   "cell_type": "code",
   "execution_count": 15,
   "metadata": {
    "colab": {},
    "colab_type": "code",
    "id": "xvwvpA64CaW_",
    "scrolled": true
   },
   "outputs": [
    {
     "name": "stdout",
     "output_type": "stream",
     "text": [
      "Epoch 1/35\n",
      "34/34 [==============================] - 5s 129ms/step - loss: 2.8377 - accuracy: 0.1391 - val_loss: 2.7470 - val_accuracy: 0.1171\n",
      "Epoch 2/35\n",
      "34/34 [==============================] - 4s 114ms/step - loss: 2.7349 - accuracy: 0.1271 - val_loss: 2.6964 - val_accuracy: 0.2973\n",
      "Epoch 3/35\n",
      "34/34 [==============================] - 5s 138ms/step - loss: 2.5006 - accuracy: 0.2774 - val_loss: 2.0258 - val_accuracy: 0.4354\n",
      "Epoch 4/35\n",
      "34/34 [==============================] - 5s 134ms/step - loss: 2.0884 - accuracy: 0.4368 - val_loss: 1.5058 - val_accuracy: 0.6787\n",
      "Epoch 5/35\n",
      "34/34 [==============================] - 4s 108ms/step - loss: 1.5735 - accuracy: 0.6135 - val_loss: 1.1802 - val_accuracy: 0.7508\n",
      "Epoch 6/35\n",
      "34/34 [==============================] - 4s 109ms/step - loss: 1.2977 - accuracy: 0.7113 - val_loss: 1.0726 - val_accuracy: 0.8078\n",
      "Epoch 7/35\n",
      "34/34 [==============================] - 4s 122ms/step - loss: 1.0770 - accuracy: 0.7940 - val_loss: 0.8677 - val_accuracy: 0.8679\n",
      "Epoch 8/35\n",
      "34/34 [==============================] - 4s 114ms/step - loss: 0.9070 - accuracy: 0.8316 - val_loss: 0.7935 - val_accuracy: 0.8799\n",
      "Epoch 9/35\n",
      "34/34 [==============================] - 4s 117ms/step - loss: 0.8438 - accuracy: 0.8654 - val_loss: 0.7446 - val_accuracy: 0.8889\n",
      "Epoch 10/35\n",
      "34/34 [==============================] - 4s 109ms/step - loss: 0.8182 - accuracy: 0.8669 - val_loss: 0.7088 - val_accuracy: 0.9039\n",
      "Epoch 11/35\n",
      "34/34 [==============================] - 4s 110ms/step - loss: 0.7044 - accuracy: 0.9105 - val_loss: 0.6686 - val_accuracy: 0.9249\n",
      "Epoch 12/35\n",
      "34/34 [==============================] - 4s 111ms/step - loss: 0.6423 - accuracy: 0.9218 - val_loss: 0.6513 - val_accuracy: 0.9219\n",
      "Epoch 13/35\n",
      "34/34 [==============================] - 4s 119ms/step - loss: 0.5874 - accuracy: 0.9383 - val_loss: 0.6795 - val_accuracy: 0.9219\n",
      "Epoch 14/35\n",
      "34/34 [==============================] - 4s 112ms/step - loss: 0.5949 - accuracy: 0.9353 - val_loss: 0.6240 - val_accuracy: 0.9249\n",
      "Epoch 15/35\n",
      "34/34 [==============================] - 4s 112ms/step - loss: 0.5707 - accuracy: 0.9406 - val_loss: 0.5795 - val_accuracy: 0.9279\n",
      "Epoch 16/35\n",
      "34/34 [==============================] - 4s 112ms/step - loss: 0.5057 - accuracy: 0.9617 - val_loss: 0.6125 - val_accuracy: 0.9279\n",
      "Epoch 17/35\n",
      "34/34 [==============================] - 4s 113ms/step - loss: 0.5281 - accuracy: 0.9541 - val_loss: 0.5740 - val_accuracy: 0.9399\n",
      "Epoch 18/35\n",
      "34/34 [==============================] - 4s 112ms/step - loss: 0.4926 - accuracy: 0.9639 - val_loss: 0.5970 - val_accuracy: 0.9399\n",
      "Epoch 19/35\n",
      "34/34 [==============================] - 4s 113ms/step - loss: 0.4967 - accuracy: 0.9594 - val_loss: 0.6007 - val_accuracy: 0.9279\n",
      "Epoch 20/35\n",
      "34/34 [==============================] - 4s 113ms/step - loss: 0.4775 - accuracy: 0.9602 - val_loss: 0.6135 - val_accuracy: 0.9339\n",
      "Epoch 21/35\n",
      "34/34 [==============================] - 4s 117ms/step - loss: 0.4545 - accuracy: 0.9759 - val_loss: 0.5881 - val_accuracy: 0.9429\n",
      "Epoch 22/35\n",
      "34/34 [==============================] - 4s 111ms/step - loss: 0.4413 - accuracy: 0.9752 - val_loss: 0.5784 - val_accuracy: 0.9429\n",
      "Epoch 23/35\n",
      "34/34 [==============================] - 4s 113ms/step - loss: 0.4371 - accuracy: 0.9812 - val_loss: 0.5950 - val_accuracy: 0.9429\n",
      "Epoch 24/35\n",
      "34/34 [==============================] - 4s 112ms/step - loss: 0.4302 - accuracy: 0.9820 - val_loss: 0.5453 - val_accuracy: 0.9459\n",
      "Epoch 25/35\n",
      "34/34 [==============================] - 4s 112ms/step - loss: 0.4134 - accuracy: 0.9820 - val_loss: 0.5437 - val_accuracy: 0.9520\n",
      "Epoch 26/35\n",
      "34/34 [==============================] - 4s 114ms/step - loss: 0.4225 - accuracy: 0.9774 - val_loss: 0.5755 - val_accuracy: 0.9489\n",
      "Epoch 27/35\n",
      "34/34 [==============================] - 4s 112ms/step - loss: 0.4112 - accuracy: 0.9797 - val_loss: 0.5107 - val_accuracy: 0.9459\n",
      "Epoch 28/35\n",
      "34/34 [==============================] - 4s 113ms/step - loss: 0.4139 - accuracy: 0.9789 - val_loss: 0.6269 - val_accuracy: 0.9399\n",
      "Epoch 29/35\n",
      "34/34 [==============================] - 4s 113ms/step - loss: 0.4096 - accuracy: 0.9774 - val_loss: 0.5913 - val_accuracy: 0.9459\n",
      "Epoch 30/35\n",
      "34/34 [==============================] - 4s 112ms/step - loss: 0.4006 - accuracy: 0.9789 - val_loss: 0.5120 - val_accuracy: 0.9610\n",
      "Epoch 31/35\n",
      "34/34 [==============================] - 4s 111ms/step - loss: 0.3791 - accuracy: 0.9880 - val_loss: 0.5316 - val_accuracy: 0.9580\n",
      "Epoch 32/35\n",
      "34/34 [==============================] - 4s 114ms/step - loss: 0.3886 - accuracy: 0.9805 - val_loss: 0.5016 - val_accuracy: 0.9550\n",
      "Epoch 33/35\n",
      "34/34 [==============================] - 4s 112ms/step - loss: 0.3797 - accuracy: 0.9850 - val_loss: 0.5079 - val_accuracy: 0.9550\n",
      "Epoch 34/35\n",
      "34/34 [==============================] - 4s 113ms/step - loss: 0.3735 - accuracy: 0.9872 - val_loss: 0.5258 - val_accuracy: 0.9459\n",
      "Epoch 35/35\n",
      "34/34 [==============================] - 4s 113ms/step - loss: 0.3746 - accuracy: 0.9872 - val_loss: 0.5779 - val_accuracy: 0.9520\n"
     ]
    }
   ],
   "source": [
    "#Epochs and batch_size can be modified to obtain a better result.\n",
    "history = model.fit(X, Y, validation_data=(X_test, Y_test), epochs=35, batch_size=40)"
   ]
  },
  {
   "cell_type": "markdown",
   "metadata": {
    "colab_type": "text",
    "id": "oEw4bZgGCaXB"
   },
   "source": [
    "<div class=\"alert alert-block alert-info\">\n",
    " \n",
    "## Model Validation\n",
    "***\n"
   ]
  },
  {
   "cell_type": "markdown",
   "metadata": {},
   "source": [
    "Model evaluation and graph results."
   ]
  },
  {
   "cell_type": "code",
   "execution_count": 16,
   "metadata": {
    "colab": {},
    "colab_type": "code",
    "id": "VflXLEeECaXC"
   },
   "outputs": [
    {
     "name": "stdout",
     "output_type": "stream",
     "text": [
      "42/42 [==============================] - 1s 14ms/step - loss: 0.3294 - accuracy: 1.0000\n",
      "11/11 [==============================] - 0s 13ms/step - loss: 0.5779 - accuracy: 0.9520\n",
      "\n",
      "Train accuracy: 1.0\n",
      "\n",
      "Test accuracy: 0.9519519805908203\n"
     ]
    }
   ],
   "source": [
    "train_loss, train_acc = model.evaluate(X, Y)\n",
    "test_loss, test_acc = model.evaluate(X_test, Y_test)\n",
    "\n",
    "print('\\nTrain accuracy:', train_acc)\n",
    "print('\\nTest accuracy:', test_acc)"
   ]
  },
  {
   "cell_type": "code",
   "execution_count": 17,
   "metadata": {
    "colab": {},
    "colab_type": "code",
    "id": "uQQiN0LofnBj"
   },
   "outputs": [
    {
     "data": {
      "image/png": "[encoded data removed]",
      "text/plain": [
       "<Figure size 432x288 with 2 Axes>"
      ]
     },
     "metadata": {
      "needs_background": "light"
     },
     "output_type": "display_data"
    }
   ],
   "source": [
    "#Blue color: Training.\n",
    "#Orange color: Testing.\n",
    "\n",
    "from matplotlib import pyplot\n",
    "\n",
    "#Loss plot\n",
    "pyplot.subplot(211)\n",
    "pyplot.title('Cross Entropy Loss')\n",
    "pyplot.plot(history.history['loss'], color='blue', label='train')\n",
    "pyplot.plot(history.history['val_loss'], color='orange', label='test')\n",
    "\n",
    "#Accuracy plot\n",
    "pyplot.subplot(212)\n",
    "pyplot.title('Classification Accuracy')\n",
    "pyplot.plot(history.history['accuracy'], color='blue', label='train')\n",
    "pyplot.plot(history.history['val_accuracy'], color='orange', label='test')\n",
    "\n",
    "pyplot.show()"
   ]
  },
  {
   "cell_type": "markdown",
   "metadata": {
    "colab_type": "text",
    "id": "xsoS7CPDCaXH"
   },
   "source": [
    "<div class=\"alert alert-block alert-info\">\n",
    "\n",
    "## Running Some Predictions\n",
    "***\n"
   ]
  },
  {
   "cell_type": "code",
   "execution_count": 18,
   "metadata": {
    "colab": {},
    "colab_type": "code",
    "id": "Gl91RPhdCaXI"
   },
   "outputs": [],
   "source": [
    "predictions = model.predict(X_test)"
   ]
  },
  {
   "cell_type": "markdown",
   "metadata": {
    "colab_type": "text",
    "id": "x9Kk1voUCaXJ"
   },
   "source": [
    "We can see what predicts the model for th 8th image:"
   ]
  },
  {
   "cell_type": "code",
   "execution_count": 29,
   "metadata": {
    "colab": {},
    "colab_type": "code",
    "id": "3DmJEUinCaXK"
   },
   "outputs": [
    {
     "data": {
      "text/plain": [
       "array([1.8385936e-10, 2.3660582e-09, 1.2768751e-07, 1.5558754e-08,\n",
       "       1.1206546e-09, 3.6391462e-15, 1.5493058e-10, 9.9989045e-01,\n",
       "       1.0939575e-04, 2.1600530e-12], dtype=float32)"
      ]
     },
     "execution_count": 29,
     "metadata": {},
     "output_type": "execute_result"
    }
   ],
   "source": [
    "predictions[8]"
   ]
  },
  {
   "cell_type": "markdown",
   "metadata": {
    "colab_type": "text",
    "id": "-hw1hgeSCaXN"
   },
   "source": [
    "*As it was already mentioned, the array represents the probability of reaching each possible value(from 0 to 9) for the selected image. In this case the second value (or label 1) is the most probable option.*"
   ]
  },
  {
   "cell_type": "markdown",
   "metadata": {
    "colab_type": "text",
    "id": "EZdTrdSt7oUT"
   },
   "source": [
    "The assumption can be validated in the following two ways:"
   ]
  },
  {
   "cell_type": "code",
   "execution_count": 30,
   "metadata": {
    "colab": {},
    "colab_type": "code",
    "id": "qsqenuPnCaXO"
   },
   "outputs": [
    {
     "data": {
      "text/plain": [
       "7"
      ]
     },
     "execution_count": 30,
     "metadata": {},
     "output_type": "execute_result"
    }
   ],
   "source": [
    "np.argmax(predictions[8])"
   ]
  },
  {
   "cell_type": "code",
   "execution_count": 31,
   "metadata": {
    "colab": {},
    "colab_type": "code",
    "id": "Sd7Pgsu6CaXP"
   },
   "outputs": [
    {
     "data": {
      "text/plain": [
       "7"
      ]
     },
     "execution_count": 31,
     "metadata": {},
     "output_type": "execute_result"
    }
   ],
   "source": [
    "Y_test[8]"
   ]
  },
  {
   "cell_type": "markdown",
   "metadata": {},
   "source": [
    "Also we can show the test image:"
   ]
  },
  {
   "cell_type": "code",
   "execution_count": 32,
   "metadata": {},
   "outputs": [
    {
     "data": {
      "text/plain": [
       "<matplotlib.image.AxesImage at 0x29900157bb0>"
      ]
     },
     "execution_count": 32,
     "metadata": {},
     "output_type": "execute_result"
    },
    {
     "data": {
      "image/png": "[encoded data removed]",
      "text/plain": [
       "<Figure size 432x288 with 1 Axes>"
      ]
     },
     "metadata": {
      "needs_background": "light"
     },
     "output_type": "display_data"
    }
   ],
   "source": [
    "nro_image = 8\n",
    "\n",
    "image = X_test[nro_image].reshape(1, img_size, img_size, 3)\n",
    "plt.imshow(X_test[nro_image])"
   ]
  },
  {
   "cell_type": "code",
   "execution_count": null,
   "metadata": {},
   "outputs": [],
   "source": []
  }
 ],
 "metadata": {
  "colab": {
   "collapsed_sections": [],
   "name": "Copia de Prueba Curso Machine Learning.ipynb",
   "private_outputs": true,
   "provenance": [
    {
     "file_id": "1t5JkPpB5vjHBiDUKTtXpvOlXsEyzWKIo",
     "timestamp": 1569610931360
    },
    {
     "file_id": "https://github.com/tensorflow/docs/blob/master/site/en/tutorials/keras/classification.ipynb",
     "timestamp": 1569521089586
    }
   ],
   "toc_visible": true
  },
  "kernelspec": {
   "display_name": "Python 3 (ipykernel)",
   "language": "python",
   "name": "python3"
  },
  "language_info": {
   "codemirror_mode": {
    "name": "ipython",
    "version": 3
   },
   "file_extension": ".py",
   "mimetype": "text/x-python",
   "name": "python",
   "nbconvert_exporter": "python",
   "pygments_lexer": "ipython3",
   "version": "3.10.4"
  }
 },
 "nbformat": 4,
 "nbformat_minor": 4
}
