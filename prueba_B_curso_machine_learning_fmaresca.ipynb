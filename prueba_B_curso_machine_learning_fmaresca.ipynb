{
 "cells": [
  {
   "cell_type": "markdown",
   "metadata": {
    "colab_type": "text",
    "id": "jYysdyb-CaWM"
   },
   "source": [
    "# Reconocer dígitos en lenguaje de señas"
   ]
  },
  {
   "cell_type": "markdown",
   "metadata": {
    "colab_type": "text",
    "id": "FbVhjPpzn6BM"
   },
   "source": [
    "La tarea tiene como objetivo reconocer dígitos en lenguaje de señas.\n",
    "\n",
    "Hay un total de 10 preguntas que deben ser respondidas y celdas con código fuente que hay que completar. \n",
    "\n",
    "Tratar de alcanzar una precisión (accuracy) mayor a 0.90 en el dataset de test, lo recomendable es llegar a 0.95.\n",
    "\n",
    "El plazo de entrega es hasta el miércoles 18 de diciembre.\n",
    "\n",
    "Utilizar JupyterHub o una instalación de Jupyter local (Anaconda3) para realizar la tarea."
   ]
  },
  {
   "cell_type": "code",
   "execution_count": 2,
   "metadata": {},
   "outputs": [],
   "source": [
    "# Importamos librerías.\n",
    "\n",
    "import os\n",
    "import numpy as np\n",
    "from os import listdir\n",
    "from keras.layers import Input\n",
    "from keras.layers import Flatten\n",
    "from keras.layers import Activation\n",
    "from keras.layers import Conv2D\n",
    "from keras.layers import MaxPooling2D\n",
    "from keras.models import Model, Sequential\n",
    "from keras.layers.core import Dense, Dropout\n",
    "from keras.layers.advanced_activations import LeakyReLU\n",
    "from keras.datasets import mnist\n",
    "from keras import initializers\n",
    "#[FMaresca]\n",
    "from keras.regularizers import l2\n",
    "from keras.preprocessing.image import ImageDataGenerator\n",
    "from tensorflow.keras.optimizers import Adam\n",
    "\n",
    "from sklearn.model_selection import train_test_split\n",
    "from PIL import Image\n",
    "import imageio\n",
    "\n",
    "import matplotlib.pyplot as plt\n",
    "import zipfile"
   ]
  },
  {
   "cell_type": "markdown",
   "metadata": {},
   "source": [
    "## Unzip de los datos de imágenes"
   ]
  },
  {
   "cell_type": "code",
   "execution_count": null,
   "metadata": {},
   "outputs": [],
   "source": [
    "with zipfile.ZipFile(path_to_zip_file, 'r') as zip_ref:\n",
    "    zip_ref.extractall(directory_to_extract_to)"
   ]
  },
  {
   "cell_type": "markdown",
   "metadata": {},
   "source": [
    "Asignamos algunas configuraciones, es posible utilizar un tamaño de imagen más chico seteando `img_size`. Con `test_size` asignamos el porcentaje de imágenes para el dataset de testing."
   ]
  },
  {
   "cell_type": "code",
   "execution_count": 3,
   "metadata": {},
   "outputs": [],
   "source": [
    "img_size = 64\n",
    "num_class = 10\n",
    "test_size = 0.2"
   ]
  },
  {
   "cell_type": "markdown",
   "metadata": {
    "colab_type": "text",
    "id": "yR0EdgrLCaWR"
   },
   "source": [
    "## Importamos dataset"
   ]
  },
  {
   "cell_type": "markdown",
   "metadata": {
    "colab_type": "text",
    "id": "DLdCchMdCaWQ"
   },
   "source": [
    "Usaremos un dataset el cuál contiene 1650 imágenes con 10 categorías diferentes. Cada categoría es un dígito del 0 al 9 representado en lenguaje de señas. Cada imagen posee una resolución de 100x100 pixels y cada pixel ocupa 3 valores de color (RGB).\n",
    "\n",
    "La siguiente celda carga las imágenes desde la carpeta 'sign_language_digits'. Para descomprimir un archivo zip en Jupyer se puede ejecutar la siguiente línea en una celda:\n",
    "\n",
    "`!unzip sign_language_digits.zip`"
   ]
  },
  {
   "cell_type": "code",
   "execution_count": 6,
   "metadata": {},
   "outputs": [],
   "source": [
    "def get_img(data_path):\n",
    "    # Getting image array from path:\n",
    "    img = Image.open(data_path)\n",
    "    img = img.resize((img_size, img_size))\n",
    "    return np.asarray(img)\n",
    "\n",
    "def get_dataset(dataset_path='./input_images/sign_language_digits'):\n",
    "    labels = listdir(dataset_path) # Geting labels\n",
    "    X = []\n",
    "    Y = []\n",
    "    for i, label in enumerate(labels):\n",
    "        datas_path = dataset_path+'/'+label\n",
    "        for data in listdir(datas_path):\n",
    "            img = get_img(datas_path+'/'+data)\n",
    "            X.append(img)\n",
    "            Y.append(int(label))\n",
    "    X = np.array(X).astype('float32')/255.\n",
    "    Y = np.array(Y).astype('int')\n",
    "    X, X_test, Y, Y_test = train_test_split(X, Y, test_size=test_size)\n",
    "    return X, X_test, Y, Y_test\n"
   ]
  },
  {
   "cell_type": "markdown",
   "metadata": {},
   "source": [
    "Separamos el dataset de testing con el de entrenamiento"
   ]
  },
  {
   "cell_type": "code",
   "execution_count": 7,
   "metadata": {},
   "outputs": [],
   "source": [
    "X, X_test, Y, Y_test = get_dataset()"
   ]
  },
  {
   "cell_type": "markdown",
   "metadata": {},
   "source": [
    "Mostramos un ejemplo de imagen."
   ]
  },
  {
   "cell_type": "code",
   "execution_count": 9,
   "metadata": {
    "scrolled": true
   },
   "outputs": [
    {
     "name": "stdout",
     "output_type": "stream",
     "text": [
      "Etiqueta de la imagen: 9\n"
     ]
    },
    {
     "data": {
      "image/png": "[encoded data removed]",
      "text/plain": [
       "<Figure size 432x288 with 1 Axes>"
      ]
     },
     "metadata": {
      "needs_background": "light"
     },
     "output_type": "display_data"
    }
   ],
   "source": [
    "nro_imagen = 3\n",
    "\n",
    "image = X[nro_imagen].reshape(1, img_size, img_size, 3)\n",
    "plt.imshow(X[nro_imagen])\n",
    "print(\"Etiqueta de la imagen: \"+str(Y[nro_imagen]))"
   ]
  },
  {
   "cell_type": "markdown",
   "metadata": {
    "colab_type": "text",
    "id": "t9FDsUlxCaWW"
   },
   "source": [
    "Tenemos 4 vectores:\n",
    "\n",
    "* `X` e `Y` son arrays del *training set*—los datos que usaremos para entrenar el modelo.\n",
    "* El modelo será testeado con el *test set*, `X_test` e `Y_test` arrays.\n",
    "\n",
    "Las imágenes son matrices de 64x64x3 (si seteamos img_size=64), cada componente de los 3 que tiene cada pixel toma valores reales entre 0 y 1. Los *labels* es un array de enteros en el rango de 0 a 9. Corresponden al dígito que representa la imagen."
   ]
  },
  {
   "cell_type": "markdown",
   "metadata": {
    "colab_type": "text",
    "id": "Brm0b_KACaWX"
   },
   "source": [
    "## Exploración los datos\n",
    "\n",
    "Antes de construir y entrenar un modelo debemos conocer los datos."
   ]
  },
  {
   "cell_type": "code",
   "execution_count": 10,
   "metadata": {
    "colab": {},
    "colab_type": "code",
    "id": "zW5k_xz1CaWX"
   },
   "outputs": [
    {
     "data": {
      "text/plain": [
       "(1330, 64, 64, 3)"
      ]
     },
     "execution_count": 10,
     "metadata": {},
     "output_type": "execute_result"
    }
   ],
   "source": [
    "# Tamaño del dataset de entrenamiento.\n",
    "X.shape"
   ]
  },
  {
   "cell_type": "code",
   "execution_count": 11,
   "metadata": {
    "colab": {},
    "colab_type": "code",
    "id": "TRFYHB2mCaWb"
   },
   "outputs": [
    {
     "data": {
      "text/plain": [
       "1330"
      ]
     },
     "execution_count": 11,
     "metadata": {},
     "output_type": "execute_result"
    }
   ],
   "source": [
    "# Cantidad de labels de entrenamiento.\n",
    "len(Y)"
   ]
  },
  {
   "cell_type": "code",
   "execution_count": 12,
   "metadata": {
    "colab": {},
    "colab_type": "code",
    "id": "XKnCTHz4CaWg"
   },
   "outputs": [
    {
     "data": {
      "text/plain": [
       "array([7, 1, 7, ..., 9, 0, 1])"
      ]
     },
     "execution_count": 12,
     "metadata": {},
     "output_type": "execute_result"
    }
   ],
   "source": [
    "# Cada label es un entero entre 0 y 9.\n",
    "Y"
   ]
  },
  {
   "cell_type": "markdown",
   "metadata": {},
   "source": [
    "Completa las siguientes dos celdas para mostrar el tamaño del dataset de test."
   ]
  },
  {
   "cell_type": "code",
   "execution_count": 13,
   "metadata": {
    "colab": {},
    "colab_type": "code",
    "id": "2KFnYlcwCaWl"
   },
   "outputs": [
    {
     "data": {
      "text/plain": [
       "(333, 64, 64, 3)"
      ]
     },
     "execution_count": 13,
     "metadata": {},
     "output_type": "execute_result"
    }
   ],
   "source": [
    "# Tamaño del dataset de test\n",
    "\n",
    "# TU CODIGO AQUI\n",
    "X_test.shape"
   ]
  },
  {
   "cell_type": "code",
   "execution_count": 14,
   "metadata": {
    "colab": {},
    "colab_type": "code",
    "id": "iJmPr5-ACaWn"
   },
   "outputs": [
    {
     "data": {
      "text/plain": [
       "333"
      ]
     },
     "execution_count": 14,
     "metadata": {},
     "output_type": "execute_result"
    }
   ],
   "source": [
    "# Cantidad de labels de test.\n",
    "\n",
    "# TU CODIGO AQUI\n",
    "len(Y_test)"
   ]
  },
  {
   "cell_type": "markdown",
   "metadata": {},
   "source": [
    "Prueba con Data Augmentation para aumentar el dataset de train \"artificialmente\""
   ]
  },
  {
   "cell_type": "code",
   "execution_count": 15,
   "metadata": {},
   "outputs": [],
   "source": [
    "#[FMaresca]: [Test]: Agrego Data Augmentation para multiplicar el set de train\n",
    "#[FMaresca]: No fue usado al final... no logré buenos resultados por falta de conocimiento con el generador\n",
    "aug = ImageDataGenerator(rotation_range=25, \n",
    "                         zoom_range=0.15,\n",
    "                         width_shift_range=0.2, \n",
    "                         height_shift_range=0.2, \n",
    "                         shear_range=0.15,\n",
    "                         horizontal_flip=True, \n",
    "                         fill_mode=\"nearest\")"
   ]
  },
  {
   "cell_type": "markdown",
   "metadata": {
    "colab_type": "text",
    "id": "59veuiEZCaW4"
   },
   "source": [
    "## Construir el modelo\n",
    "\n",
    "Para nuestra solución construiremos una red neuronal."
   ]
  },
  {
   "cell_type": "markdown",
   "metadata": {
    "colab_type": "text",
    "id": "NLws8IXaKnw7"
   },
   "source": [
    "**PREGUNTAS**\n",
    "\n",
    "**1) ¿Qué razones hay para utilizar redes neuronales en la resolución de este problema?**\n",
    "\n",
    "*Las redes neuronales son muy buenas en temas relacionados al reconocimiento de imagen y patrones. Son ideales para trabajar con una gran cantidad de parámetros de entrada (todos los píxeles de cada imagen).*\n",
    "\n",
    "**2) ¿Qué cantidad de features (input) tendrá la red (considerar la variable img_size)?**\n",
    "\n",
    "*La red tendrá un número de entradas igual a 64x64x3 o 12288*\n",
    "\n",
    "**3) ¿Qué representa cada feature?**\n",
    "\n",
    "*1 pixel y 1 canal(valor rgb o similar) de la imagen*\n",
    "\n",
    "**4) La última capa de la red, ¿Cuántas neuronas deberá tener? ¿Por qué?**\n",
    "\n",
    "*Deberá tener 10 neuronas. Esto es porque el resutlado es un número del 0 al 9 y la red arrojará la probabilidad de que la imagen sea cada uno de esos 10 números.*\n",
    "\n",
    "**5) ¿Utilizarías una red convolucional? ¿Por qué?**\n",
    "\n",
    "*Es un buen método para reducir la resolución de la imagen obteniendo así un conjunto de características inferior al de entrada (en tamaño). Esto genera que una de las nuevas características se corresponda a un mayor campo de activación de la imagen de entrada (una zona mayor). A su vez aydua a acelarar el proceso de ajustes y cálculo en las capas neuronales internas totalmente conectadas.*\n"
   ]
  },
  {
   "cell_type": "markdown",
   "metadata": {
    "colab_type": "text",
    "id": "Gxg1XGm0eOBy"
   },
   "source": [
    "### Construir las capas de la red\n",
    "\n",
    "La unidad básica de construcción de una red neuronal en keras son las capas (layer). \n"
   ]
  },
  {
   "cell_type": "markdown",
   "metadata": {
    "colab_type": "text",
    "id": "ngK32-ELaZPa"
   },
   "source": [
    "\n",
    "### Algunos tipos de capas que podemos usar\n",
    "\n",
    "**Conv2D** (https://keras.io/layers/convolutional/)\n",
    "\n",
    "Capa convolucional. Parámetros:\n",
    "\n",
    "* *filters*: Cantidad de filtros o canales.\n",
    "\n",
    "* *kernel_size*: Tamaño de la ventana que recorrerá la imagen. Ejemplos: (3,3), (5,5), (7,7).\n",
    "* *input_shape*: La dimensión y tamaño de los datos de entrada. Es necesario definirla solamente en la primera capa de la red, en las otras será igual a la salida de la capa anterior. **Ejemplo:** si tenemos como entrada imágenes de 150x100x3 input_shape será (150,100,3).\n",
    "\n",
    "* *padding*: Aumenta el tamaño de entrada con 0's, de esta manera podemos ajustar el tamaño del feature map generado aplicando el kernel. *padding* puede ser 'valid' el cuál no agregará nada o 'same' que agregará tantos ceros tal que el feature map generado sea del mismo tamaño que la entrada.\n",
    "\n",
    "<img src=\"https://s3-us-west-2.amazonaws.com/static.pyimagesearch.com/keras-conv2d/keras_conv2d_padding.gif\" width=\"500\">\n",
    "\n",
    "La red convolucional 2D espera de entrada imágenes donde cada pixel puede tener 1 o más valores (escala de grises, RGB). En nuestro caso será RGB.\n",
    "\n",
    "\n",
    "\n",
    "\n",
    "**MaxPooling2D** (https://keras.io/layers/pooling/)\n",
    "\n",
    "Capa de pooling, comúnmente usada luego de una capa convolucional. Selecciona y reduce la cantidad de valores. Parámetros:\n",
    "\n",
    "* *pool_size*: Reduce el tamaño de entrada de forma: (vertical, horizontal). Ejemplo: (2,2)\n",
    "\n",
    "\n",
    "\n",
    "**Flatten** (https://keras.io/layers/core/)\n",
    "\n",
    "Redimensiona la estructura de la entrada y retorna un vector manteniendo los mismos valores.\n",
    "\n",
    "Por ejemplo, luego de varias capas convolucionales y pooling tendremos varios canales (features maps) donde cada uno será una matriz dos dimensiones, se puede pensar como una estructura en 3 dimensiones. Para conectarla con una capa de neuronas densa (todas conectadas con todas) se debe redimensionar a un vector, se utiliza Flatten para conectar parte convolucional con capas densas.\n",
    "\n",
    "\n",
    "**Dense** (https://keras.io/layers/core/)\n",
    "\n",
    "Capa de neuronas, se conecta todas las entradas con todas las neuronas.\n",
    "\n",
    "* *units*: Cantidad de neuronas de la capa.\n",
    "* *activation*: Función de activación (https://keras.io/activations/), funciones comúnmente utilizadas: 'softmax', 'relu', 'sigmoid'.\n",
    "\n"
   ]
  },
  {
   "cell_type": "markdown",
   "metadata": {},
   "source": [
    "***Bosquejo de una arquitectura con capas convolucionales, pooling y capas densas:***\n",
    "\n",
    "<img src=\"https://missinglink.ai/wp-content/uploads/2019/07/A-Convolutional-Neural-Network.png\" width=\"800\">"
   ]
  },
  {
   "cell_type": "code",
   "execution_count": 16,
   "metadata": {},
   "outputs": [],
   "source": [
    "# Se da un diseño inicial de la red neuronal.\n",
    "# A las capas dadas les falta setear algunas configuraciones (se muestra con ...)\n",
    "\n",
    "# Es posible utilizar una activación para la salida (última capa) y otra activación diferente\n",
    "# para las capas internas, probar con la activación relu para las capas internas.\n",
    "\n",
    "model = Sequential()\n",
    "#[FMaresca]:\n",
    "#- Input_shape = (height, width, depth)\n",
    "#- Aplicar regularization ayuda a: (1)Reducir el efecto de overfitting \n",
    "# e (2)Incrementar la abilidad del modelo para generalizar\n",
    "#- Initializer \"he_normal\" funcionó mejor que el anterior\n",
    "#------------------\n",
    "# La 1er capa convolucional aprende 16 filtros\n",
    "model.add(Conv2D(16, (7, 7), strides=(2, 2), padding=\"valid\",\n",
    "                 kernel_initializer=\"he_normal\", kernel_regularizer=l2(0.0005), input_shape=(64,64,3)))\n",
    "\n",
    "#[FMaresca]:\n",
    "# Después acumulo 2 capas más en las cuales se van a aprender 32 filtros\n",
    "#------------------\n",
    "model.add(Conv2D(32, (3, 3), padding=\"same\",\n",
    "                 kernel_initializer=\"he_normal\", kernel_regularizer=l2(0.0005)))\n",
    "model.add(Activation(\"relu\"))\n",
    "model.add(Conv2D(32, (3, 3), strides=(2, 2), padding=\"same\",\n",
    "                 kernel_initializer=\"he_normal\", kernel_regularizer=l2(0.0005)))\n",
    "model.add(Activation(\"relu\"))\n",
    "model.add(Dropout(0.25))\n",
    "\n",
    "#[FMaresca]:\n",
    "# Nuevamente acumulo 2 capas incrementando la cantidad de filtros para aprender\n",
    "#------------------\n",
    "model.add(Conv2D(64, (3, 3), padding=\"same\",\n",
    "                 kernel_initializer=\"he_normal\", kernel_regularizer=l2(0.0005)))\n",
    "model.add(Activation(\"relu\"))\n",
    "model.add(Conv2D(64, (3, 3), strides=(2, 2), padding=\"same\",\n",
    "                 kernel_initializer=\"he_normal\", kernel_regularizer=l2(0.0005)))\n",
    "model.add(Activation(\"relu\"))\n",
    "model.add(Dropout(0.25))\n",
    "\n",
    "#[FMaresca]:\n",
    "# Por último, vuelvo a incrementar los filtros. En este caso hasta 128\n",
    "#------------------\n",
    "model.add(Conv2D(128, (3, 3), padding=\"same\",\n",
    "                 kernel_initializer=\"he_normal\", kernel_regularizer=l2(0.0005)))\n",
    "model.add(Activation(\"relu\"))\n",
    "model.add(Conv2D(128, (3, 3), strides=(2, 2), padding=\"same\",\n",
    "                 kernel_initializer=\"he_normal\", kernel_regularizer=l2(0.0005)))\n",
    "model.add(Activation(\"relu\"))\n",
    "model.add(Dropout(0.25))\n",
    "\n",
    "model.add(Flatten())\n",
    "# Agregar más capas densas.\n",
    "#[FMaresca]: 1er capa totalmente conectada\n",
    "#------------------\n",
    "model.add(Dense(512, kernel_initializer=\"he_normal\"))\n",
    "model.add(Activation(\"relu\"))\n",
    "model.add(Dropout(0.5))\n",
    "\n",
    "#[FMaresca]: 2da capa totalmente conectada (Salida)\n",
    "#------------------\n",
    "model.add(Dense(10, activation='softmax'))"
   ]
  },
  {
   "cell_type": "markdown",
   "metadata": {
    "colab_type": "text",
    "id": "gut8A_7rCaW6"
   },
   "source": [
    "\n",
    "### Compilar el modelo\n",
    "\n",
    "Antes de comenzar a entrenar el modelo hay que setear algunas configuraciones extras. Se setean durante el paso de *compilación*:\n",
    "\n",
    "* *Loss function* —Mide cuál es el error del modelo durante el entrenamiento. El objetivo es minimizar esta función.\n",
    "* *Optimizer* —Es cómo se actualizará los parámetros del modelo para minimizar la función de pérdida (loss function).\n",
    "* *Metrics* —Para monitorizar la etapa de entrenamiento. Usaremos *accuracy*, la fracción de las imágenes que son correctamente clasificadas."
   ]
  },
  {
   "cell_type": "code",
   "execution_count": null,
   "metadata": {
    "colab": {},
    "colab_type": "code",
    "id": "Lhan11blCaW7"
   },
   "outputs": [],
   "source": [
    "# Con sparse_categorical_crossentropy no es necesario aplicar one-hot-encoding.\n",
    "# Podemos utilizar los labels directamente como enteros.\n",
    "\n",
    "#[FMaresca]: Para compenzar los ajustes muy bruscos al buscar el mínimo de la función (pasó en varias simulaciones\n",
    "#luego de usar el método de data augmentation)\n",
    "optim = Adam(lr = 0.0005)\n",
    "model.compile(optimizer = optim,\n",
    "              loss = 'sparse_categorical_crossentropy',\n",
    "              metrics = ['accuracy'])"
   ]
  },
  {
   "cell_type": "code",
   "execution_count": 18,
   "metadata": {
    "colab": {},
    "colab_type": "code",
    "id": "rR9JsKTgeb2C"
   },
   "outputs": [
    {
     "name": "stdout",
     "output_type": "stream",
     "text": [
      "Model: \"sequential\"\n",
      "_________________________________________________________________\n",
      " Layer (type)                Output Shape              Param #   \n",
      "=================================================================\n",
      " conv2d (Conv2D)             (None, 29, 29, 16)        2368      \n",
      "                                                                 \n",
      " conv2d_1 (Conv2D)           (None, 29, 29, 32)        4640      \n",
      "                                                                 \n",
      " activation (Activation)     (None, 29, 29, 32)        0         \n",
      "                                                                 \n",
      " conv2d_2 (Conv2D)           (None, 15, 15, 32)        9248      \n",
      "                                                                 \n",
      " activation_1 (Activation)   (None, 15, 15, 32)        0         \n",
      "                                                                 \n",
      " dropout (Dropout)           (None, 15, 15, 32)        0         \n",
      "                                                                 \n",
      " conv2d_3 (Conv2D)           (None, 15, 15, 64)        18496     \n",
      "                                                                 \n",
      " activation_2 (Activation)   (None, 15, 15, 64)        0         \n",
      "                                                                 \n",
      " conv2d_4 (Conv2D)           (None, 8, 8, 64)          36928     \n",
      "                                                                 \n",
      " activation_3 (Activation)   (None, 8, 8, 64)          0         \n",
      "                                                                 \n",
      " dropout_1 (Dropout)         (None, 8, 8, 64)          0         \n",
      "                                                                 \n",
      " conv2d_5 (Conv2D)           (None, 8, 8, 128)         73856     \n",
      "                                                                 \n",
      " activation_4 (Activation)   (None, 8, 8, 128)         0         \n",
      "                                                                 \n",
      " conv2d_6 (Conv2D)           (None, 4, 4, 128)         147584    \n",
      "                                                                 \n",
      " activation_5 (Activation)   (None, 4, 4, 128)         0         \n",
      "                                                                 \n",
      " dropout_2 (Dropout)         (None, 4, 4, 128)         0         \n",
      "                                                                 \n",
      " flatten (Flatten)           (None, 2048)              0         \n",
      "                                                                 \n",
      " dense (Dense)               (None, 512)               1049088   \n",
      "                                                                 \n",
      " activation_6 (Activation)   (None, 512)               0         \n",
      "                                                                 \n",
      " dropout_3 (Dropout)         (None, 512)               0         \n",
      "                                                                 \n",
      " dense_1 (Dense)             (None, 10)                5130      \n",
      "                                                                 \n",
      "=================================================================\n",
      "Total params: 1,347,338\n",
      "Trainable params: 1,347,338\n",
      "Non-trainable params: 0\n",
      "_________________________________________________________________\n",
      "None\n"
     ]
    }
   ],
   "source": [
    "# Mostramos un resumen de la red neuronal.\n",
    "\n",
    "print(model.summary())"
   ]
  },
  {
   "cell_type": "markdown",
   "metadata": {
    "colab_type": "text",
    "id": "qKF6uW-BCaW-"
   },
   "source": [
    "## Entrenamos el modelo\n",
    "\n",
    "Para entrenar el modelo utilizamos la función *fit*, esto hará que el modelo se ajuste a los datos de entrenamiento:"
   ]
  },
  {
   "cell_type": "code",
   "execution_count": 19,
   "metadata": {
    "colab": {},
    "colab_type": "code",
    "id": "xvwvpA64CaW_",
    "scrolled": true
   },
   "outputs": [
    {
     "name": "stdout",
     "output_type": "stream",
     "text": [
      "Epoch 1/40\n",
      "45/45 [==============================] - 8s 114ms/step - loss: 3.0406 - accuracy: 0.1098 - val_loss: 2.7486 - val_accuracy: 0.0781\n",
      "Epoch 2/40\n",
      "45/45 [==============================] - 5s 109ms/step - loss: 2.7461 - accuracy: 0.1053 - val_loss: 2.7320 - val_accuracy: 0.1351\n",
      "Epoch 3/40\n",
      "45/45 [==============================] - 5s 110ms/step - loss: 2.7229 - accuracy: 0.1256 - val_loss: 2.6899 - val_accuracy: 0.1742\n",
      "Epoch 4/40\n",
      "45/45 [==============================] - 5s 101ms/step - loss: 2.6573 - accuracy: 0.1744 - val_loss: 2.3959 - val_accuracy: 0.3934\n",
      "Epoch 5/40\n",
      "45/45 [==============================] - 5s 106ms/step - loss: 2.2403 - accuracy: 0.3669 - val_loss: 1.7402 - val_accuracy: 0.5706\n",
      "Epoch 6/40\n",
      "45/45 [==============================] - 5s 103ms/step - loss: 1.9050 - accuracy: 0.4850 - val_loss: 1.5167 - val_accuracy: 0.6607\n",
      "Epoch 7/40\n",
      "45/45 [==============================] - 5s 101ms/step - loss: 1.5632 - accuracy: 0.6098 - val_loss: 1.0925 - val_accuracy: 0.7868\n",
      "Epoch 8/40\n",
      "45/45 [==============================] - 5s 101ms/step - loss: 1.2542 - accuracy: 0.7150 - val_loss: 0.9438 - val_accuracy: 0.8228\n",
      "Epoch 9/40\n",
      "45/45 [==============================] - 5s 102ms/step - loss: 1.1084 - accuracy: 0.7707 - val_loss: 0.8333 - val_accuracy: 0.8559\n",
      "Epoch 10/40\n",
      "45/45 [==============================] - 5s 101ms/step - loss: 1.0059 - accuracy: 0.8143 - val_loss: 0.7788 - val_accuracy: 0.9039\n",
      "Epoch 11/40\n",
      "45/45 [==============================] - 5s 103ms/step - loss: 0.8727 - accuracy: 0.8406 - val_loss: 0.7686 - val_accuracy: 0.9039\n",
      "Epoch 12/40\n",
      "45/45 [==============================] - 5s 104ms/step - loss: 0.7699 - accuracy: 0.8759 - val_loss: 0.6995 - val_accuracy: 0.9099\n",
      "Epoch 13/40\n",
      "45/45 [==============================] - 5s 103ms/step - loss: 0.7202 - accuracy: 0.8880 - val_loss: 0.6502 - val_accuracy: 0.9159\n",
      "Epoch 14/40\n",
      "45/45 [==============================] - 5s 104ms/step - loss: 0.6675 - accuracy: 0.8940 - val_loss: 0.6423 - val_accuracy: 0.9219\n",
      "Epoch 15/40\n",
      "45/45 [==============================] - 5s 105ms/step - loss: 0.6210 - accuracy: 0.9158 - val_loss: 0.5989 - val_accuracy: 0.9429\n",
      "Epoch 16/40\n",
      "45/45 [==============================] - 5s 102ms/step - loss: 0.5900 - accuracy: 0.9248 - val_loss: 0.6065 - val_accuracy: 0.9369\n",
      "Epoch 17/40\n",
      "45/45 [==============================] - 5s 102ms/step - loss: 0.5565 - accuracy: 0.9436 - val_loss: 0.6290 - val_accuracy: 0.9369\n",
      "Epoch 18/40\n",
      "45/45 [==============================] - 5s 104ms/step - loss: 0.5317 - accuracy: 0.9406 - val_loss: 0.5853 - val_accuracy: 0.9399\n",
      "Epoch 19/40\n",
      "45/45 [==============================] - 5s 103ms/step - loss: 0.5525 - accuracy: 0.9353 - val_loss: 0.5840 - val_accuracy: 0.9429\n",
      "Epoch 20/40\n",
      "45/45 [==============================] - 5s 102ms/step - loss: 0.5014 - accuracy: 0.9602 - val_loss: 0.5986 - val_accuracy: 0.9520\n",
      "Epoch 21/40\n",
      "45/45 [==============================] - 5s 102ms/step - loss: 0.4892 - accuracy: 0.9586 - val_loss: 0.6345 - val_accuracy: 0.9429\n",
      "Epoch 22/40\n",
      "45/45 [==============================] - 5s 101ms/step - loss: 0.4692 - accuracy: 0.9594 - val_loss: 0.6053 - val_accuracy: 0.9249\n",
      "Epoch 23/40\n",
      "45/45 [==============================] - 5s 103ms/step - loss: 0.4901 - accuracy: 0.9526 - val_loss: 0.5628 - val_accuracy: 0.9550\n",
      "Epoch 24/40\n",
      "45/45 [==============================] - 5s 102ms/step - loss: 0.4585 - accuracy: 0.9609 - val_loss: 0.5636 - val_accuracy: 0.9580\n",
      "Epoch 25/40\n",
      "45/45 [==============================] - 5s 102ms/step - loss: 0.4181 - accuracy: 0.9767 - val_loss: 0.6136 - val_accuracy: 0.9489\n",
      "Epoch 26/40\n",
      "45/45 [==============================] - 5s 103ms/step - loss: 0.4296 - accuracy: 0.9729 - val_loss: 0.5662 - val_accuracy: 0.9489\n",
      "Epoch 27/40\n",
      "45/45 [==============================] - 5s 104ms/step - loss: 0.4544 - accuracy: 0.9639 - val_loss: 0.5232 - val_accuracy: 0.9580\n",
      "Epoch 28/40\n",
      "45/45 [==============================] - 5s 105ms/step - loss: 0.4067 - accuracy: 0.9707 - val_loss: 0.5771 - val_accuracy: 0.9520\n",
      "Epoch 29/40\n",
      "45/45 [==============================] - 5s 103ms/step - loss: 0.3957 - accuracy: 0.9789 - val_loss: 0.6114 - val_accuracy: 0.9520\n",
      "Epoch 30/40\n",
      "45/45 [==============================] - 5s 101ms/step - loss: 0.4057 - accuracy: 0.9782 - val_loss: 0.5296 - val_accuracy: 0.9640\n",
      "Epoch 31/40\n",
      "45/45 [==============================] - 5s 102ms/step - loss: 0.3856 - accuracy: 0.9850 - val_loss: 0.5735 - val_accuracy: 0.9489\n",
      "Epoch 32/40\n",
      "45/45 [==============================] - 5s 104ms/step - loss: 0.3723 - accuracy: 0.9812 - val_loss: 0.5534 - val_accuracy: 0.9459\n",
      "Epoch 33/40\n",
      "45/45 [==============================] - 5s 102ms/step - loss: 0.3778 - accuracy: 0.9812 - val_loss: 0.5715 - val_accuracy: 0.9339\n",
      "Epoch 34/40\n",
      "45/45 [==============================] - 5s 102ms/step - loss: 0.3970 - accuracy: 0.9737 - val_loss: 0.5907 - val_accuracy: 0.9399\n",
      "Epoch 35/40\n",
      "45/45 [==============================] - 5s 102ms/step - loss: 0.3890 - accuracy: 0.9767 - val_loss: 0.5977 - val_accuracy: 0.9339\n",
      "Epoch 36/40\n",
      "45/45 [==============================] - 5s 100ms/step - loss: 0.3710 - accuracy: 0.9797 - val_loss: 0.5618 - val_accuracy: 0.9520\n",
      "Epoch 37/40\n",
      "45/45 [==============================] - 4s 100ms/step - loss: 0.3456 - accuracy: 0.9872 - val_loss: 0.5647 - val_accuracy: 0.9520\n",
      "Epoch 38/40\n",
      "45/45 [==============================] - 5s 104ms/step - loss: 0.3333 - accuracy: 0.9910 - val_loss: 0.6069 - val_accuracy: 0.9429\n",
      "Epoch 39/40\n",
      "45/45 [==============================] - 4s 99ms/step - loss: 0.3398 - accuracy: 0.9895 - val_loss: 0.6312 - val_accuracy: 0.9550\n",
      "Epoch 40/40\n",
      "45/45 [==============================] - 5s 101ms/step - loss: 0.3619 - accuracy: 0.9789 - val_loss: 0.5444 - val_accuracy: 0.9580\n"
     ]
    }
   ],
   "source": [
    "# Podrás modificar epochs y batch_size para obtener un mejor resultado o rendimiento.\n",
    "\n",
    "#[FMaresca]: Generación \"normal\" del proceos de ajsute\n",
    "history = model.fit(X, Y, validation_data=(X_test, Y_test), epochs=40, batch_size=30)\n",
    "\n",
    "#[FMaresca]: Proceso de ajuste en base a Data Augmentation (con ImageDataGenerator)\n",
    "#[FMaresca]: No logré hacer funcionar bien el método con ImageDataGeneration\n",
    "#history = model.fit_generator(aug.flow(X, Y, batch_size=30), validation_data=(X_test, Y_test), epochs=25)"
   ]
  },
  {
   "cell_type": "markdown",
   "metadata": {
    "colab_type": "text",
    "id": "RDDtvAuVQ2fQ"
   },
   "source": [
    "**PREGUNTAS**\n",
    "\n",
    "**6) ¿Qué es el overfitting?**\n",
    "\n",
    "*El overfitting es el resultado de ajustar en demasia un modelo a los datos de entrenamiento.*\n",
    "\n",
    "\n",
    "**7) ¿Por qué lo queremos evitar?**\n",
    "\n",
    "*Porque un modelo demasiado ajustado a los datos de entrenamiento va a presentar un mal desempeño frente a nueva información (desconocia para él), ya que va a tener menos libertad de movilidad frente a datos que se \"salen o alejan\" de los de train. Esto aumenta la probabilidad de hacer malas predicciones.*\n"
   ]
  },
  {
   "cell_type": "markdown",
   "metadata": {
    "colab_type": "text",
    "id": "oEw4bZgGCaXB"
   },
   "source": [
    "## Evaluar el modelo\n",
    "\n",
    "Evaluamos el modelo con el dataset de train y test, luego graficamos la evolución del error y la precisión:"
   ]
  },
  {
   "cell_type": "code",
   "execution_count": 20,
   "metadata": {
    "colab": {},
    "colab_type": "code",
    "id": "VflXLEeECaXC"
   },
   "outputs": [
    {
     "name": "stdout",
     "output_type": "stream",
     "text": [
      "42/42 [==============================] - 1s 14ms/step - loss: 0.3004 - accuracy: 1.0000\n",
      "11/11 [==============================] - 0s 15ms/step - loss: 0.5444 - accuracy: 0.9580\n",
      "\n",
      "Train accuracy: 1.0\n",
      "\n",
      "Test accuracy: 0.9579579830169678\n"
     ]
    }
   ],
   "source": [
    "train_loss, train_acc = model.evaluate(X, Y)\n",
    "test_loss, test_acc = model.evaluate(X_test, Y_test)\n",
    "\n",
    "print('\\nTrain accuracy:', train_acc)\n",
    "print('\\nTest accuracy:', test_acc)"
   ]
  },
  {
   "cell_type": "markdown",
   "metadata": {
    "colab_type": "text",
    "id": "yWfgsmVXCaXG"
   },
   "source": [
    "**PREGUNTA**\n",
    "\n",
    "**8) ¿Por qué el accuracy de test es menor al de train?**\n",
    "\n",
    "*La información de Train es información conocida por el modelo y empleada durante todo el proceso de entrenamiento para su ajuste paramétrico. Esto hace que dicho modelo se acerque muy bien a predecir todos los datos presentes en ese set. Por el contrario, la información de Test son datos desconocidos para él. Esto genera que sea puesto a prueba completamente y nos permite simular y medir su posible comportamiento en el \"mundo real\". Es esperable que el desempeño del modelo en producción se ajsute más al accuracy de Test que al de Train*\n"
   ]
  },
  {
   "cell_type": "code",
   "execution_count": 22,
   "metadata": {
    "colab": {},
    "colab_type": "code",
    "id": "uQQiN0LofnBj"
   },
   "outputs": [
    {
     "data": {
      "image/png": "[encoded data removed]",
      "text/plain": [
       "<Figure size 432x288 with 2 Axes>"
      ]
     },
     "metadata": {
      "needs_background": "light"
     },
     "output_type": "display_data"
    }
   ],
   "source": [
    "# Color azul: Entrenamiento.\n",
    "# Color naranja: Testing.\n",
    "\n",
    "from matplotlib import pyplot\n",
    "\n",
    "# plot loss\n",
    "pyplot.subplot(211)\n",
    "pyplot.title('Cross Entropy Loss')\n",
    "pyplot.plot(history.history['loss'], color='blue', label='train')\n",
    "pyplot.plot(history.history['val_loss'], color='orange', label='test')\n",
    "\n",
    "# plot accuracy\n",
    "pyplot.subplot(212)\n",
    "pyplot.title('Classification Accuracy')\n",
    "pyplot.plot(history.history['accuracy'], color='blue', label='train')\n",
    "pyplot.plot(history.history['val_accuracy'], color='orange', label='test')\n",
    "\n",
    "pyplot.show()"
   ]
  },
  {
   "cell_type": "markdown",
   "metadata": {
    "colab_type": "text",
    "id": "yWfgsmVXCaXG"
   },
   "source": [
    "**PREGUNTA**\n",
    "\n",
    "**9) En la gráfica, si la brecha entre ambos accuracy (training y test) es muy grande ¿Qué puede estar sucediendo?**\n",
    "\n",
    "*Puede estar ocurriendo overfitting, lo que implica que el modelo se está ajustando tan bien al set de entrenamiento que su capacidad para predecir imágenes por fuera de dicho set es mala. \n",
    "Otra opción podría ser el underfitting, lo cual implica un modelo \"pobremente\" diseñado o entrenado (aunque en este caso se debería ver un mal \"Train accuracy\")*\n"
   ]
  },
  {
   "cell_type": "markdown",
   "metadata": {
    "colab_type": "text",
    "id": "xsoS7CPDCaXH"
   },
   "source": [
    "## Haciendo predicciones\n",
    "\n",
    "Con el modelo entrenado podemos hacer predicciones sobre algunas imágenes."
   ]
  },
  {
   "cell_type": "code",
   "execution_count": 23,
   "metadata": {
    "colab": {},
    "colab_type": "code",
    "id": "Gl91RPhdCaXI"
   },
   "outputs": [],
   "source": [
    "predictions = model.predict(X_test)"
   ]
  },
  {
   "cell_type": "markdown",
   "metadata": {
    "colab_type": "text",
    "id": "x9Kk1voUCaXJ"
   },
   "source": [
    "Podemos ver qué predice nuestro modelo para la primera imagen:"
   ]
  },
  {
   "cell_type": "code",
   "execution_count": 24,
   "metadata": {
    "colab": {},
    "colab_type": "code",
    "id": "3DmJEUinCaXK"
   },
   "outputs": [
    {
     "data": {
      "text/plain": [
       "array([2.4214792e-11, 9.9999046e-01, 9.4975476e-06, 2.8745004e-09,\n",
       "       4.5518915e-15, 1.7820901e-16, 1.5490563e-13, 1.5062611e-10,\n",
       "       6.9717621e-11, 4.7999937e-12], dtype=float32)"
      ]
     },
     "execution_count": 24,
     "metadata": {},
     "output_type": "execute_result"
    }
   ],
   "source": [
    "predictions[7]"
   ]
  },
  {
   "cell_type": "markdown",
   "metadata": {
    "colab_type": "text",
    "id": "-hw1hgeSCaXN"
   },
   "source": [
    "**PREGUNTA**\n",
    "\n",
    "**10) ¿Qué representa el vector *predictions*?**\n",
    "\n",
    "*Representa el vector de etiquetas (del 0 al 9) para una imagen dada. Los valores son la probabilidad de que una imagen se corresponde con cada una de esas etiquetas. La componente del vector con mayor valor va a determinar cuál es la etiqueta que predijo el modelo para la imagen en ceustión.*\n"
   ]
  },
  {
   "cell_type": "markdown",
   "metadata": {
    "colab_type": "text",
    "id": "EZdTrdSt7oUT"
   },
   "source": [
    "Vemos qué clase predice y cuál es la clase correcta para la primera imagen:"
   ]
  },
  {
   "cell_type": "code",
   "execution_count": 25,
   "metadata": {
    "colab": {},
    "colab_type": "code",
    "id": "qsqenuPnCaXO"
   },
   "outputs": [
    {
     "data": {
      "text/plain": [
       "1"
      ]
     },
     "execution_count": 25,
     "metadata": {},
     "output_type": "execute_result"
    }
   ],
   "source": [
    "np.argmax(predictions[7])"
   ]
  },
  {
   "cell_type": "code",
   "execution_count": 26,
   "metadata": {
    "colab": {},
    "colab_type": "code",
    "id": "Sd7Pgsu6CaXP"
   },
   "outputs": [
    {
     "data": {
      "text/plain": [
       "1"
      ]
     },
     "execution_count": 26,
     "metadata": {},
     "output_type": "execute_result"
    }
   ],
   "source": [
    "Y_test[7]"
   ]
  },
  {
   "cell_type": "code",
   "execution_count": 27,
   "metadata": {},
   "outputs": [
    {
     "data": {
      "text/plain": [
       "<matplotlib.image.AxesImage at 0x25586a696f0>"
      ]
     },
     "execution_count": 27,
     "metadata": {},
     "output_type": "execute_result"
    },
    {
     "data": {
      "image/png": "[encoded data removed]",
      "text/plain": [
       "<Figure size 432x288 with 1 Axes>"
      ]
     },
     "metadata": {
      "needs_background": "light"
     },
     "output_type": "display_data"
    }
   ],
   "source": [
    "nro_imagen = 7\n",
    "\n",
    "image = X_test[nro_imagen].reshape(1, img_size, img_size, 3)\n",
    "plt.imshow(X_test[nro_imagen])"
   ]
  },
  {
   "cell_type": "code",
   "execution_count": null,
   "metadata": {},
   "outputs": [],
   "source": []
  }
 ],
 "metadata": {
  "colab": {
   "collapsed_sections": [],
   "name": "Copia de Prueba Curso Machine Learning.ipynb",
   "private_outputs": true,
   "provenance": [
    {
     "file_id": "1t5JkPpB5vjHBiDUKTtXpvOlXsEyzWKIo",
     "timestamp": 1569610931360
    },
    {
     "file_id": "https://github.com/tensorflow/docs/blob/master/site/en/tutorials/keras/classification.ipynb",
     "timestamp": 1569521089586
    }
   ],
   "toc_visible": true
  },
  "kernelspec": {
   "display_name": "Python 3 (ipykernel)",
   "language": "python",
   "name": "python3"
  },
  "language_info": {
   "codemirror_mode": {
    "name": "ipython",
    "version": 3
   },
   "file_extension": ".py",
   "mimetype": "text/x-python",
   "name": "python",
   "nbconvert_exporter": "python",
   "pygments_lexer": "ipython3",
   "version": "3.10.4"
  }
 },
 "nbformat": 4,
 "nbformat_minor": 4
}
